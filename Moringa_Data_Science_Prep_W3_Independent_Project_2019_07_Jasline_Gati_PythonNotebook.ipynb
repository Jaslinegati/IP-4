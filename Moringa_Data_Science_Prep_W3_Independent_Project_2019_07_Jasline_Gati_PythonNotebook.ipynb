{
  "nbformat": 4,
  "nbformat_minor": 0,
  "metadata": {
    "colab": {
      "name": "Moringa_Data_Science_Prep_W3_Independent_Project_2019_07_Jasline_Gati_PythonNotebook.ipynb",
      "provenance": [],
      "collapsed_sections": [],
      "toc_visible": true
    },
    "kernelspec": {
      "name": "python3",
      "display_name": "Python 3"
    }
  },
  "cells": [
    {
      "cell_type": "markdown",
      "metadata": {
        "id": "4FcZRw9_2QrO",
        "colab_type": "text"
      },
      "source": [
        "## Importing Libraries\n"
      ]
    },
    {
      "cell_type": "code",
      "metadata": {
        "id": "5weLGEshvr6H",
        "colab_type": "code",
        "colab": {}
      },
      "source": [
        "import numpy as np\n",
        "import pandas as pd\n"
      ],
      "execution_count": 0,
      "outputs": []
    },
    {
      "cell_type": "markdown",
      "metadata": {
        "id": "jj2qSH3V2Z0F",
        "colab_type": "text"
      },
      "source": [
        "## Loading the datasets"
      ]
    },
    {
      "cell_type": "code",
      "metadata": {
        "id": "44t0Wz4HwWXG",
        "colab_type": "code",
        "outputId": "1bd01eb6-2666-41b1-e842-780cc256867f",
        "colab": {
          "base_uri": "https://localhost:8080/",
          "height": 753
        }
      },
      "source": [
        "df = 'Autolib.csv'\n",
        "ddf=pd.read_csv(df)\n",
        "ddf.head(10)\n",
        "\n"
      ],
      "execution_count": 0,
      "outputs": [
        {
          "output_type": "execute_result",
          "data": {
            "text/html": [
              "<div>\n",
              "<style scoped>\n",
              "    .dataframe tbody tr th:only-of-type {\n",
              "        vertical-align: middle;\n",
              "    }\n",
              "\n",
              "    .dataframe tbody tr th {\n",
              "        vertical-align: top;\n",
              "    }\n",
              "\n",
              "    .dataframe thead th {\n",
              "        text-align: right;\n",
              "    }\n",
              "</style>\n",
              "<table border=\"1\" class=\"dataframe\">\n",
              "  <thead>\n",
              "    <tr style=\"text-align: right;\">\n",
              "      <th></th>\n",
              "      <th>Address</th>\n",
              "      <th>Cars</th>\n",
              "      <th>Bluecar counter</th>\n",
              "      <th>Utilib counter</th>\n",
              "      <th>Utilib 1.4 counter</th>\n",
              "      <th>Charge Slots</th>\n",
              "      <th>Charging Status</th>\n",
              "      <th>City</th>\n",
              "      <th>Displayed comment</th>\n",
              "      <th>ID</th>\n",
              "      <th>Kind</th>\n",
              "      <th>Geo point</th>\n",
              "      <th>Postal code</th>\n",
              "      <th>Public name</th>\n",
              "      <th>Rental status</th>\n",
              "      <th>Scheduled at</th>\n",
              "      <th>Slots</th>\n",
              "      <th>Station type</th>\n",
              "      <th>Status</th>\n",
              "      <th>Subscription status</th>\n",
              "      <th>year</th>\n",
              "      <th>month</th>\n",
              "      <th>day</th>\n",
              "      <th>hour</th>\n",
              "      <th>minute</th>\n",
              "    </tr>\n",
              "  </thead>\n",
              "  <tbody>\n",
              "    <tr>\n",
              "      <th>0</th>\n",
              "      <td>2 Avenue de Suffren</td>\n",
              "      <td>0</td>\n",
              "      <td>0</td>\n",
              "      <td>0</td>\n",
              "      <td>0</td>\n",
              "      <td>0</td>\n",
              "      <td>nonexistent</td>\n",
              "      <td>Paris</td>\n",
              "      <td>NaN</td>\n",
              "      <td>paris-suffren-2</td>\n",
              "      <td>STATION</td>\n",
              "      <td>48.857, 2.2917</td>\n",
              "      <td>75015</td>\n",
              "      <td>Paris/Suffren/2</td>\n",
              "      <td>operational</td>\n",
              "      <td>NaN</td>\n",
              "      <td>2</td>\n",
              "      <td>station</td>\n",
              "      <td>ok</td>\n",
              "      <td>nonexistent</td>\n",
              "      <td>2018</td>\n",
              "      <td>4</td>\n",
              "      <td>8</td>\n",
              "      <td>11</td>\n",
              "      <td>43</td>\n",
              "    </tr>\n",
              "    <tr>\n",
              "      <th>1</th>\n",
              "      <td>145 Rue Raymond Losserand</td>\n",
              "      <td>6</td>\n",
              "      <td>6</td>\n",
              "      <td>0</td>\n",
              "      <td>0</td>\n",
              "      <td>0</td>\n",
              "      <td>operational</td>\n",
              "      <td>Paris</td>\n",
              "      <td>NaN</td>\n",
              "      <td>paris-raymondlosserand-145</td>\n",
              "      <td>STATION</td>\n",
              "      <td>48.83126, 2.313088</td>\n",
              "      <td>75014</td>\n",
              "      <td>Paris/Raymond Losserand/145</td>\n",
              "      <td>operational</td>\n",
              "      <td>NaN</td>\n",
              "      <td>0</td>\n",
              "      <td>station</td>\n",
              "      <td>ok</td>\n",
              "      <td>nonexistent</td>\n",
              "      <td>2018</td>\n",
              "      <td>4</td>\n",
              "      <td>6</td>\n",
              "      <td>7</td>\n",
              "      <td>24</td>\n",
              "    </tr>\n",
              "    <tr>\n",
              "      <th>2</th>\n",
              "      <td>2 Avenue John Fitzgerald Kennedy</td>\n",
              "      <td>3</td>\n",
              "      <td>3</td>\n",
              "      <td>0</td>\n",
              "      <td>2</td>\n",
              "      <td>0</td>\n",
              "      <td>operational</td>\n",
              "      <td>Le Bourget</td>\n",
              "      <td>NaN</td>\n",
              "      <td>lebourget-johnfitzgeraldkennedy-2</td>\n",
              "      <td>STATION</td>\n",
              "      <td>48.938103, 2.4286035</td>\n",
              "      <td>93350</td>\n",
              "      <td>Le Bourget/John Fitzgerald Kennedy/2</td>\n",
              "      <td>operational</td>\n",
              "      <td>NaN</td>\n",
              "      <td>1</td>\n",
              "      <td>station</td>\n",
              "      <td>ok</td>\n",
              "      <td>nonexistent</td>\n",
              "      <td>2018</td>\n",
              "      <td>4</td>\n",
              "      <td>3</td>\n",
              "      <td>20</td>\n",
              "      <td>14</td>\n",
              "    </tr>\n",
              "    <tr>\n",
              "      <th>3</th>\n",
              "      <td>51 Rue EugÃ¨ne OudinÃ©</td>\n",
              "      <td>3</td>\n",
              "      <td>3</td>\n",
              "      <td>1</td>\n",
              "      <td>0</td>\n",
              "      <td>1</td>\n",
              "      <td>operational</td>\n",
              "      <td>Paris</td>\n",
              "      <td>NaN</td>\n",
              "      <td>paris-eugeneoudine-51</td>\n",
              "      <td>STATION</td>\n",
              "      <td>48.8250327, 2.3725162</td>\n",
              "      <td>75013</td>\n",
              "      <td>Paris/EugÃ¨ne OudinÃ©/51</td>\n",
              "      <td>operational</td>\n",
              "      <td>NaN</td>\n",
              "      <td>2</td>\n",
              "      <td>station</td>\n",
              "      <td>ok</td>\n",
              "      <td>nonexistent</td>\n",
              "      <td>2018</td>\n",
              "      <td>4</td>\n",
              "      <td>4</td>\n",
              "      <td>4</td>\n",
              "      <td>37</td>\n",
              "    </tr>\n",
              "    <tr>\n",
              "      <th>4</th>\n",
              "      <td>6 avenue de la Porte de Champerret</td>\n",
              "      <td>3</td>\n",
              "      <td>3</td>\n",
              "      <td>0</td>\n",
              "      <td>0</td>\n",
              "      <td>0</td>\n",
              "      <td>nonexistent</td>\n",
              "      <td>Paris</td>\n",
              "      <td>NaN</td>\n",
              "      <td>paris-portedechamperret-6</td>\n",
              "      <td>PARKING</td>\n",
              "      <td>48.8862632, 2.2874511</td>\n",
              "      <td>75017</td>\n",
              "      <td>Paris/Porte de Champerret/6</td>\n",
              "      <td>operational</td>\n",
              "      <td>NaN</td>\n",
              "      <td>3</td>\n",
              "      <td>station</td>\n",
              "      <td>ok</td>\n",
              "      <td>nonexistent</td>\n",
              "      <td>2018</td>\n",
              "      <td>4</td>\n",
              "      <td>8</td>\n",
              "      <td>17</td>\n",
              "      <td>23</td>\n",
              "    </tr>\n",
              "    <tr>\n",
              "      <th>5</th>\n",
              "      <td>8 Boulevard Voltaire</td>\n",
              "      <td>0</td>\n",
              "      <td>0</td>\n",
              "      <td>0</td>\n",
              "      <td>0</td>\n",
              "      <td>0</td>\n",
              "      <td>nonexistent</td>\n",
              "      <td>Paris</td>\n",
              "      <td>NaN</td>\n",
              "      <td>paris-voltaire-8</td>\n",
              "      <td>STATION</td>\n",
              "      <td>48.8657658, 2.3664376</td>\n",
              "      <td>75011</td>\n",
              "      <td>Paris/Voltaire/8</td>\n",
              "      <td>operational</td>\n",
              "      <td>NaN</td>\n",
              "      <td>4</td>\n",
              "      <td>station</td>\n",
              "      <td>ok</td>\n",
              "      <td>nonexistent</td>\n",
              "      <td>2018</td>\n",
              "      <td>4</td>\n",
              "      <td>6</td>\n",
              "      <td>7</td>\n",
              "      <td>2</td>\n",
              "    </tr>\n",
              "    <tr>\n",
              "      <th>6</th>\n",
              "      <td>37 rue Leblanc</td>\n",
              "      <td>0</td>\n",
              "      <td>0</td>\n",
              "      <td>0</td>\n",
              "      <td>0</td>\n",
              "      <td>0</td>\n",
              "      <td>nonexistent</td>\n",
              "      <td>Paris</td>\n",
              "      <td>Station en parking (niv -1), accÃ¨s 37 rue Leb...</td>\n",
              "      <td>paris-citroencevennes-parking</td>\n",
              "      <td>PARKING</td>\n",
              "      <td>48.83874, 2.27641</td>\n",
              "      <td>75015</td>\n",
              "      <td>Paris/CitroÃ«n CÃ©vennes/Parking</td>\n",
              "      <td>broken</td>\n",
              "      <td>NaN</td>\n",
              "      <td>0</td>\n",
              "      <td>station</td>\n",
              "      <td>closed</td>\n",
              "      <td>nonexistent</td>\n",
              "      <td>2018</td>\n",
              "      <td>4</td>\n",
              "      <td>8</td>\n",
              "      <td>18</td>\n",
              "      <td>20</td>\n",
              "    </tr>\n",
              "    <tr>\n",
              "      <th>7</th>\n",
              "      <td>17 Rue des Luaps ProlongÃ©e</td>\n",
              "      <td>3</td>\n",
              "      <td>3</td>\n",
              "      <td>1</td>\n",
              "      <td>0</td>\n",
              "      <td>0</td>\n",
              "      <td>nonexistent</td>\n",
              "      <td>Nanterre</td>\n",
              "      <td>NaN</td>\n",
              "      <td>nanterre-luaps-17</td>\n",
              "      <td>STATION</td>\n",
              "      <td>48.88069, 2.21063</td>\n",
              "      <td>92000</td>\n",
              "      <td>Nanterre/Luaps/17</td>\n",
              "      <td>operational</td>\n",
              "      <td>NaN</td>\n",
              "      <td>0</td>\n",
              "      <td>station</td>\n",
              "      <td>ok</td>\n",
              "      <td>nonexistent</td>\n",
              "      <td>2018</td>\n",
              "      <td>4</td>\n",
              "      <td>4</td>\n",
              "      <td>22</td>\n",
              "      <td>13</td>\n",
              "    </tr>\n",
              "    <tr>\n",
              "      <th>8</th>\n",
              "      <td>34 avenue Jean Moulin</td>\n",
              "      <td>1</td>\n",
              "      <td>1</td>\n",
              "      <td>0</td>\n",
              "      <td>0</td>\n",
              "      <td>0</td>\n",
              "      <td>nonexistent</td>\n",
              "      <td>Paris</td>\n",
              "      <td>NaN</td>\n",
              "      <td>paris-jeanmoulin-34</td>\n",
              "      <td>STATION</td>\n",
              "      <td>48.8266807, 2.3237355</td>\n",
              "      <td>75014</td>\n",
              "      <td>Paris/Jean Moulin/34</td>\n",
              "      <td>operational</td>\n",
              "      <td>NaN</td>\n",
              "      <td>4</td>\n",
              "      <td>station</td>\n",
              "      <td>ok</td>\n",
              "      <td>nonexistent</td>\n",
              "      <td>2018</td>\n",
              "      <td>4</td>\n",
              "      <td>2</td>\n",
              "      <td>22</td>\n",
              "      <td>58</td>\n",
              "    </tr>\n",
              "    <tr>\n",
              "      <th>9</th>\n",
              "      <td>41 boulevard de Rochechouart</td>\n",
              "      <td>6</td>\n",
              "      <td>6</td>\n",
              "      <td>0</td>\n",
              "      <td>0</td>\n",
              "      <td>0</td>\n",
              "      <td>nonexistent</td>\n",
              "      <td>Paris</td>\n",
              "      <td>NaN</td>\n",
              "      <td>paris-anvers-parking</td>\n",
              "      <td>PARKING</td>\n",
              "      <td>48.88267, 2.34405</td>\n",
              "      <td>75009</td>\n",
              "      <td>Paris/Anvers/Parking</td>\n",
              "      <td>operational</td>\n",
              "      <td>NaN</td>\n",
              "      <td>0</td>\n",
              "      <td>station</td>\n",
              "      <td>ok</td>\n",
              "      <td>nonexistent</td>\n",
              "      <td>2018</td>\n",
              "      <td>4</td>\n",
              "      <td>4</td>\n",
              "      <td>15</td>\n",
              "      <td>2</td>\n",
              "    </tr>\n",
              "  </tbody>\n",
              "</table>\n",
              "</div>"
            ],
            "text/plain": [
              "                              Address  Cars  Bluecar counter  ...  day  hour  minute\n",
              "0                 2 Avenue de Suffren     0                0  ...    8    11      43\n",
              "1           145 Rue Raymond Losserand     6                6  ...    6     7      24\n",
              "2    2 Avenue John Fitzgerald Kennedy     3                3  ...    3    20      14\n",
              "3              51 Rue EugÃ¨ne OudinÃ©     3                3  ...    4     4      37\n",
              "4  6 avenue de la Porte de Champerret     3                3  ...    8    17      23\n",
              "5                8 Boulevard Voltaire     0                0  ...    6     7       2\n",
              "6                      37 rue Leblanc     0                0  ...    8    18      20\n",
              "7         17 Rue des Luaps ProlongÃ©e     3                3  ...    4    22      13\n",
              "8               34 avenue Jean Moulin     1                1  ...    2    22      58\n",
              "9        41 boulevard de Rochechouart     6                6  ...    4    15       2\n",
              "\n",
              "[10 rows x 25 columns]"
            ]
          },
          "metadata": {
            "tags": []
          },
          "execution_count": 10
        }
      ]
    },
    {
      "cell_type": "markdown",
      "metadata": {
        "id": "s5cIwUxy3IU6",
        "colab_type": "text"
      },
      "source": [
        "# Data Cleaning"
      ]
    },
    {
      "cell_type": "markdown",
      "metadata": {
        "id": "OuFRse9E2fz7",
        "colab_type": "text"
      },
      "source": [
        "## Validity\n"
      ]
    },
    {
      "cell_type": "code",
      "metadata": {
        "id": "2YjIfuxjyFAh",
        "colab_type": "code",
        "outputId": "aac65533-904d-4818-9e5f-89c9bd43a53b",
        "colab": {
          "base_uri": "https://localhost:8080/",
          "height": 527
        }
      },
      "source": [
        "ddf.info()\n",
        "ddf.drop([\"Displayed comment\",\"Scheduled at\"], axis = 1, inplace= True)\n",
        "#ddf.isnull().sum()\n",
        "\n"
      ],
      "execution_count": 0,
      "outputs": [
        {
          "output_type": "stream",
          "text": [
            "<class 'pandas.core.frame.DataFrame'>\n",
            "RangeIndex: 5000 entries, 0 to 4999\n",
            "Data columns (total 25 columns):\n",
            "Address                5000 non-null object\n",
            "Cars                   5000 non-null int64\n",
            "Bluecar counter        5000 non-null int64\n",
            "Utilib counter         5000 non-null int64\n",
            "Utilib 1.4 counter     5000 non-null int64\n",
            "Charge Slots           5000 non-null int64\n",
            "Charging Status        5000 non-null object\n",
            "City                   5000 non-null object\n",
            "Displayed comment      111 non-null object\n",
            "ID                     5000 non-null object\n",
            "Kind                   5000 non-null object\n",
            "Geo point              5000 non-null object\n",
            "Postal code            5000 non-null int64\n",
            "Public name            5000 non-null object\n",
            "Rental status          5000 non-null object\n",
            "Scheduled at           47 non-null object\n",
            "Slots                  5000 non-null int64\n",
            "Station type           5000 non-null object\n",
            "Status                 5000 non-null object\n",
            "Subscription status    5000 non-null object\n",
            "year                   5000 non-null int64\n",
            "month                  5000 non-null int64\n",
            "day                    5000 non-null int64\n",
            "hour                   5000 non-null int64\n",
            "minute                 5000 non-null int64\n",
            "dtypes: int64(12), object(13)\n",
            "memory usage: 976.7+ KB\n"
          ],
          "name": "stdout"
        }
      ]
    },
    {
      "cell_type": "code",
      "metadata": {
        "id": "3wxklFVT1TKx",
        "colab_type": "code",
        "outputId": "d28ab803-f28b-4069-f5a6-edccf3634225",
        "colab": {
          "base_uri": "https://localhost:8080/",
          "height": 168
        }
      },
      "source": [
        "ddf.head(1)\n"
      ],
      "execution_count": 0,
      "outputs": [
        {
          "output_type": "execute_result",
          "data": {
            "text/html": [
              "<div>\n",
              "<style scoped>\n",
              "    .dataframe tbody tr th:only-of-type {\n",
              "        vertical-align: middle;\n",
              "    }\n",
              "\n",
              "    .dataframe tbody tr th {\n",
              "        vertical-align: top;\n",
              "    }\n",
              "\n",
              "    .dataframe thead th {\n",
              "        text-align: right;\n",
              "    }\n",
              "</style>\n",
              "<table border=\"1\" class=\"dataframe\">\n",
              "  <thead>\n",
              "    <tr style=\"text-align: right;\">\n",
              "      <th></th>\n",
              "      <th>Address</th>\n",
              "      <th>Cars</th>\n",
              "      <th>Bluecar counter</th>\n",
              "      <th>Utilib counter</th>\n",
              "      <th>Utilib 1.4 counter</th>\n",
              "      <th>Charge Slots</th>\n",
              "      <th>Charging Status</th>\n",
              "      <th>City</th>\n",
              "      <th>ID</th>\n",
              "      <th>Kind</th>\n",
              "      <th>Geo point</th>\n",
              "      <th>Postal code</th>\n",
              "      <th>Public name</th>\n",
              "      <th>Rental status</th>\n",
              "      <th>Slots</th>\n",
              "      <th>Station type</th>\n",
              "      <th>Status</th>\n",
              "      <th>Subscription status</th>\n",
              "      <th>year</th>\n",
              "      <th>month</th>\n",
              "      <th>day</th>\n",
              "      <th>hour</th>\n",
              "      <th>minute</th>\n",
              "    </tr>\n",
              "  </thead>\n",
              "  <tbody>\n",
              "    <tr>\n",
              "      <th>0</th>\n",
              "      <td>2 Avenue de Suffren</td>\n",
              "      <td>0</td>\n",
              "      <td>0</td>\n",
              "      <td>0</td>\n",
              "      <td>0</td>\n",
              "      <td>0</td>\n",
              "      <td>nonexistent</td>\n",
              "      <td>Paris</td>\n",
              "      <td>paris-suffren-2</td>\n",
              "      <td>STATION</td>\n",
              "      <td>48.857, 2.2917</td>\n",
              "      <td>75015</td>\n",
              "      <td>Paris/Suffren/2</td>\n",
              "      <td>operational</td>\n",
              "      <td>2</td>\n",
              "      <td>station</td>\n",
              "      <td>ok</td>\n",
              "      <td>nonexistent</td>\n",
              "      <td>2018</td>\n",
              "      <td>4</td>\n",
              "      <td>8</td>\n",
              "      <td>11</td>\n",
              "      <td>43</td>\n",
              "    </tr>\n",
              "  </tbody>\n",
              "</table>\n",
              "</div>"
            ],
            "text/plain": [
              "               Address  Cars  Bluecar counter  ...  day  hour  minute\n",
              "0  2 Avenue de Suffren     0                0  ...    8    11      43\n",
              "\n",
              "[1 rows x 23 columns]"
            ]
          },
          "metadata": {
            "tags": []
          },
          "execution_count": 13
        }
      ]
    },
    {
      "cell_type": "code",
      "metadata": {
        "id": "sdXm9Pa33juy",
        "colab_type": "code",
        "outputId": "11e28c7d-f10c-4098-bef7-583d82ed6345",
        "colab": {
          "base_uri": "https://localhost:8080/",
          "height": 493
        }
      },
      "source": [
        "ddf.info()"
      ],
      "execution_count": 0,
      "outputs": [
        {
          "output_type": "stream",
          "text": [
            "<class 'pandas.core.frame.DataFrame'>\n",
            "RangeIndex: 5000 entries, 0 to 4999\n",
            "Data columns (total 23 columns):\n",
            "Address                5000 non-null object\n",
            "Cars                   5000 non-null int64\n",
            "Bluecar counter        5000 non-null int64\n",
            "Utilib counter         5000 non-null int64\n",
            "Utilib 1.4 counter     5000 non-null int64\n",
            "Charge Slots           5000 non-null int64\n",
            "Charging Status        5000 non-null object\n",
            "City                   5000 non-null object\n",
            "ID                     5000 non-null object\n",
            "Kind                   5000 non-null object\n",
            "Geo point              5000 non-null object\n",
            "Postal code            5000 non-null int64\n",
            "Public name            5000 non-null object\n",
            "Rental status          5000 non-null object\n",
            "Slots                  5000 non-null int64\n",
            "Station type           5000 non-null object\n",
            "Status                 5000 non-null object\n",
            "Subscription status    5000 non-null object\n",
            "year                   5000 non-null int64\n",
            "month                  5000 non-null int64\n",
            "day                    5000 non-null int64\n",
            "hour                   5000 non-null int64\n",
            "minute                 5000 non-null int64\n",
            "dtypes: int64(12), object(11)\n",
            "memory usage: 898.6+ KB\n"
          ],
          "name": "stdout"
        }
      ]
    },
    {
      "cell_type": "code",
      "metadata": {
        "id": "pVZTNSbm-o65",
        "colab_type": "code",
        "outputId": "503024f9-38c3-41a7-f81c-eda513033b36",
        "colab": {
          "base_uri": "https://localhost:8080/",
          "height": 238
        }
      },
      "source": [
        "#checking for outliers\n",
        "Q1 = ddf.quantile(0.25)\n",
        "Q3 = ddf.quantile(0.75)\n",
        "IQR = Q3 - Q1\n",
        "\n",
        "print(IQR)\n",
        "#below is the interquartile range for each column"
      ],
      "execution_count": 0,
      "outputs": [
        {
          "output_type": "stream",
          "text": [
            "Cars                      4.0\n",
            "Bluecar counter           4.0\n",
            "Utilib counter            0.0\n",
            "Utilib 1.4 counter        0.0\n",
            "Charge Slots              0.0\n",
            "Postal code           17308.0\n",
            "Slots                     3.0\n",
            "year                      0.0\n",
            "month                     0.0\n",
            "day                       4.0\n",
            "hour                     12.0\n",
            "minute                   30.0\n",
            "dtype: float64\n"
          ],
          "name": "stdout"
        }
      ]
    },
    {
      "cell_type": "code",
      "metadata": {
        "id": "0uqnSwGZBfMd",
        "colab_type": "code",
        "outputId": "2432f1c6-62ee-4eb0-b9c5-ad27dd18cf7d",
        "colab": {
          "base_uri": "https://localhost:8080/",
          "height": 255
        }
      },
      "source": [
        "# Having the IQR scores, it’s time to get hold on outliers. \n",
        "# The below code will give an output with some true and false values. \n",
        "# The data point where we have False that means these values are valid \n",
        "# whereas True indicates presence of an outlier.\n",
        "#\n",
        "print((ddf < (Q1 - 1.5 * IQR))|(ddf > (Q3 + 1.5 * IQR)))\n",
        "\n",
        "#The code below would be used to remove the outliers, however we dont need to remove them because \n",
        "#they're insignificant.\n",
        "#boston_df_iqr = boston_df[~((boston_df < (Q1 - 1.5 * IQR)) |(boston_df > (Q3 + 1.5 * IQR))).any(axis=1)]\n",
        "#print(boston_df_iqr.shape)"
      ],
      "execution_count": 0,
      "outputs": [
        {
          "output_type": "stream",
          "text": [
            "      Address  Bluecar counter   Cars  ...  minute  month   year\n",
            "0       False            False  False  ...   False  False  False\n",
            "1       False            False  False  ...   False  False  False\n",
            "2       False            False  False  ...   False  False  False\n",
            "3       False            False  False  ...   False  False  False\n",
            "4       False            False  False  ...   False  False  False\n",
            "...       ...              ...    ...  ...     ...    ...    ...\n",
            "4995    False            False  False  ...   False  False  False\n",
            "4996    False            False  False  ...   False  False  False\n",
            "4997    False            False  False  ...   False  False  False\n",
            "4998    False            False  False  ...   False  False  False\n",
            "4999    False            False  False  ...   False  False  False\n",
            "\n",
            "[5000 rows x 23 columns]\n"
          ],
          "name": "stdout"
        }
      ]
    },
    {
      "cell_type": "markdown",
      "metadata": {
        "id": "XFSnZyBYDIlA",
        "colab_type": "text"
      },
      "source": [
        "## Accuracy"
      ]
    },
    {
      "cell_type": "code",
      "metadata": {
        "id": "DZ8KKC0TDT9N",
        "colab_type": "code",
        "outputId": "05d86fdc-2e77-4056-fbfb-05c8e392b880",
        "colab": {
          "base_uri": "https://localhost:8080/",
          "height": 719
        }
      },
      "source": [
        "def y(row):\n",
        "  if row['Cars'] == row['Bluecar counter']:\n",
        "    return 'True'\n",
        "  else:\n",
        "    return 'False'\n",
        "#Apply the lambda function and create a new column with the new row\n",
        "ddf['Verifier_column']=ddf.apply (lambda row: y(row), axis=1)\n",
        "ddf.head(10)"
      ],
      "execution_count": 0,
      "outputs": [
        {
          "output_type": "execute_result",
          "data": {
            "text/html": [
              "<div>\n",
              "<style scoped>\n",
              "    .dataframe tbody tr th:only-of-type {\n",
              "        vertical-align: middle;\n",
              "    }\n",
              "\n",
              "    .dataframe tbody tr th {\n",
              "        vertical-align: top;\n",
              "    }\n",
              "\n",
              "    .dataframe thead th {\n",
              "        text-align: right;\n",
              "    }\n",
              "</style>\n",
              "<table border=\"1\" class=\"dataframe\">\n",
              "  <thead>\n",
              "    <tr style=\"text-align: right;\">\n",
              "      <th></th>\n",
              "      <th>Address</th>\n",
              "      <th>Cars</th>\n",
              "      <th>Bluecar counter</th>\n",
              "      <th>Utilib counter</th>\n",
              "      <th>Utilib 1.4 counter</th>\n",
              "      <th>Charge Slots</th>\n",
              "      <th>Charging Status</th>\n",
              "      <th>City</th>\n",
              "      <th>ID</th>\n",
              "      <th>Kind</th>\n",
              "      <th>Geo point</th>\n",
              "      <th>Postal code</th>\n",
              "      <th>Public name</th>\n",
              "      <th>Rental status</th>\n",
              "      <th>Slots</th>\n",
              "      <th>Station type</th>\n",
              "      <th>Status</th>\n",
              "      <th>Subscription status</th>\n",
              "      <th>year</th>\n",
              "      <th>month</th>\n",
              "      <th>day</th>\n",
              "      <th>hour</th>\n",
              "      <th>minute</th>\n",
              "      <th>Verifier_column</th>\n",
              "    </tr>\n",
              "  </thead>\n",
              "  <tbody>\n",
              "    <tr>\n",
              "      <th>0</th>\n",
              "      <td>2 Avenue de Suffren</td>\n",
              "      <td>0</td>\n",
              "      <td>0</td>\n",
              "      <td>0</td>\n",
              "      <td>0</td>\n",
              "      <td>0</td>\n",
              "      <td>nonexistent</td>\n",
              "      <td>Paris</td>\n",
              "      <td>paris-suffren-2</td>\n",
              "      <td>STATION</td>\n",
              "      <td>48.857, 2.2917</td>\n",
              "      <td>75015</td>\n",
              "      <td>Paris/Suffren/2</td>\n",
              "      <td>operational</td>\n",
              "      <td>2</td>\n",
              "      <td>station</td>\n",
              "      <td>ok</td>\n",
              "      <td>nonexistent</td>\n",
              "      <td>2018</td>\n",
              "      <td>4</td>\n",
              "      <td>8</td>\n",
              "      <td>11</td>\n",
              "      <td>43</td>\n",
              "      <td>True</td>\n",
              "    </tr>\n",
              "    <tr>\n",
              "      <th>1</th>\n",
              "      <td>145 Rue Raymond Losserand</td>\n",
              "      <td>6</td>\n",
              "      <td>6</td>\n",
              "      <td>0</td>\n",
              "      <td>0</td>\n",
              "      <td>0</td>\n",
              "      <td>operational</td>\n",
              "      <td>Paris</td>\n",
              "      <td>paris-raymondlosserand-145</td>\n",
              "      <td>STATION</td>\n",
              "      <td>48.83126, 2.313088</td>\n",
              "      <td>75014</td>\n",
              "      <td>Paris/Raymond Losserand/145</td>\n",
              "      <td>operational</td>\n",
              "      <td>0</td>\n",
              "      <td>station</td>\n",
              "      <td>ok</td>\n",
              "      <td>nonexistent</td>\n",
              "      <td>2018</td>\n",
              "      <td>4</td>\n",
              "      <td>6</td>\n",
              "      <td>7</td>\n",
              "      <td>24</td>\n",
              "      <td>True</td>\n",
              "    </tr>\n",
              "    <tr>\n",
              "      <th>2</th>\n",
              "      <td>2 Avenue John Fitzgerald Kennedy</td>\n",
              "      <td>3</td>\n",
              "      <td>3</td>\n",
              "      <td>0</td>\n",
              "      <td>2</td>\n",
              "      <td>0</td>\n",
              "      <td>operational</td>\n",
              "      <td>Le Bourget</td>\n",
              "      <td>lebourget-johnfitzgeraldkennedy-2</td>\n",
              "      <td>STATION</td>\n",
              "      <td>48.938103, 2.4286035</td>\n",
              "      <td>93350</td>\n",
              "      <td>Le Bourget/John Fitzgerald Kennedy/2</td>\n",
              "      <td>operational</td>\n",
              "      <td>1</td>\n",
              "      <td>station</td>\n",
              "      <td>ok</td>\n",
              "      <td>nonexistent</td>\n",
              "      <td>2018</td>\n",
              "      <td>4</td>\n",
              "      <td>3</td>\n",
              "      <td>20</td>\n",
              "      <td>14</td>\n",
              "      <td>True</td>\n",
              "    </tr>\n",
              "    <tr>\n",
              "      <th>3</th>\n",
              "      <td>51 Rue EugÃ¨ne OudinÃ©</td>\n",
              "      <td>3</td>\n",
              "      <td>3</td>\n",
              "      <td>1</td>\n",
              "      <td>0</td>\n",
              "      <td>1</td>\n",
              "      <td>operational</td>\n",
              "      <td>Paris</td>\n",
              "      <td>paris-eugeneoudine-51</td>\n",
              "      <td>STATION</td>\n",
              "      <td>48.8250327, 2.3725162</td>\n",
              "      <td>75013</td>\n",
              "      <td>Paris/EugÃ¨ne OudinÃ©/51</td>\n",
              "      <td>operational</td>\n",
              "      <td>2</td>\n",
              "      <td>station</td>\n",
              "      <td>ok</td>\n",
              "      <td>nonexistent</td>\n",
              "      <td>2018</td>\n",
              "      <td>4</td>\n",
              "      <td>4</td>\n",
              "      <td>4</td>\n",
              "      <td>37</td>\n",
              "      <td>True</td>\n",
              "    </tr>\n",
              "    <tr>\n",
              "      <th>4</th>\n",
              "      <td>6 avenue de la Porte de Champerret</td>\n",
              "      <td>3</td>\n",
              "      <td>3</td>\n",
              "      <td>0</td>\n",
              "      <td>0</td>\n",
              "      <td>0</td>\n",
              "      <td>nonexistent</td>\n",
              "      <td>Paris</td>\n",
              "      <td>paris-portedechamperret-6</td>\n",
              "      <td>PARKING</td>\n",
              "      <td>48.8862632, 2.2874511</td>\n",
              "      <td>75017</td>\n",
              "      <td>Paris/Porte de Champerret/6</td>\n",
              "      <td>operational</td>\n",
              "      <td>3</td>\n",
              "      <td>station</td>\n",
              "      <td>ok</td>\n",
              "      <td>nonexistent</td>\n",
              "      <td>2018</td>\n",
              "      <td>4</td>\n",
              "      <td>8</td>\n",
              "      <td>17</td>\n",
              "      <td>23</td>\n",
              "      <td>True</td>\n",
              "    </tr>\n",
              "    <tr>\n",
              "      <th>5</th>\n",
              "      <td>8 Boulevard Voltaire</td>\n",
              "      <td>0</td>\n",
              "      <td>0</td>\n",
              "      <td>0</td>\n",
              "      <td>0</td>\n",
              "      <td>0</td>\n",
              "      <td>nonexistent</td>\n",
              "      <td>Paris</td>\n",
              "      <td>paris-voltaire-8</td>\n",
              "      <td>STATION</td>\n",
              "      <td>48.8657658, 2.3664376</td>\n",
              "      <td>75011</td>\n",
              "      <td>Paris/Voltaire/8</td>\n",
              "      <td>operational</td>\n",
              "      <td>4</td>\n",
              "      <td>station</td>\n",
              "      <td>ok</td>\n",
              "      <td>nonexistent</td>\n",
              "      <td>2018</td>\n",
              "      <td>4</td>\n",
              "      <td>6</td>\n",
              "      <td>7</td>\n",
              "      <td>2</td>\n",
              "      <td>True</td>\n",
              "    </tr>\n",
              "    <tr>\n",
              "      <th>6</th>\n",
              "      <td>37 rue Leblanc</td>\n",
              "      <td>0</td>\n",
              "      <td>0</td>\n",
              "      <td>0</td>\n",
              "      <td>0</td>\n",
              "      <td>0</td>\n",
              "      <td>nonexistent</td>\n",
              "      <td>Paris</td>\n",
              "      <td>paris-citroencevennes-parking</td>\n",
              "      <td>PARKING</td>\n",
              "      <td>48.83874, 2.27641</td>\n",
              "      <td>75015</td>\n",
              "      <td>Paris/CitroÃ«n CÃ©vennes/Parking</td>\n",
              "      <td>broken</td>\n",
              "      <td>0</td>\n",
              "      <td>station</td>\n",
              "      <td>closed</td>\n",
              "      <td>nonexistent</td>\n",
              "      <td>2018</td>\n",
              "      <td>4</td>\n",
              "      <td>8</td>\n",
              "      <td>18</td>\n",
              "      <td>20</td>\n",
              "      <td>True</td>\n",
              "    </tr>\n",
              "    <tr>\n",
              "      <th>7</th>\n",
              "      <td>17 Rue des Luaps ProlongÃ©e</td>\n",
              "      <td>3</td>\n",
              "      <td>3</td>\n",
              "      <td>1</td>\n",
              "      <td>0</td>\n",
              "      <td>0</td>\n",
              "      <td>nonexistent</td>\n",
              "      <td>Nanterre</td>\n",
              "      <td>nanterre-luaps-17</td>\n",
              "      <td>STATION</td>\n",
              "      <td>48.88069, 2.21063</td>\n",
              "      <td>92000</td>\n",
              "      <td>Nanterre/Luaps/17</td>\n",
              "      <td>operational</td>\n",
              "      <td>0</td>\n",
              "      <td>station</td>\n",
              "      <td>ok</td>\n",
              "      <td>nonexistent</td>\n",
              "      <td>2018</td>\n",
              "      <td>4</td>\n",
              "      <td>4</td>\n",
              "      <td>22</td>\n",
              "      <td>13</td>\n",
              "      <td>True</td>\n",
              "    </tr>\n",
              "    <tr>\n",
              "      <th>8</th>\n",
              "      <td>34 avenue Jean Moulin</td>\n",
              "      <td>1</td>\n",
              "      <td>1</td>\n",
              "      <td>0</td>\n",
              "      <td>0</td>\n",
              "      <td>0</td>\n",
              "      <td>nonexistent</td>\n",
              "      <td>Paris</td>\n",
              "      <td>paris-jeanmoulin-34</td>\n",
              "      <td>STATION</td>\n",
              "      <td>48.8266807, 2.3237355</td>\n",
              "      <td>75014</td>\n",
              "      <td>Paris/Jean Moulin/34</td>\n",
              "      <td>operational</td>\n",
              "      <td>4</td>\n",
              "      <td>station</td>\n",
              "      <td>ok</td>\n",
              "      <td>nonexistent</td>\n",
              "      <td>2018</td>\n",
              "      <td>4</td>\n",
              "      <td>2</td>\n",
              "      <td>22</td>\n",
              "      <td>58</td>\n",
              "      <td>True</td>\n",
              "    </tr>\n",
              "    <tr>\n",
              "      <th>9</th>\n",
              "      <td>41 boulevard de Rochechouart</td>\n",
              "      <td>6</td>\n",
              "      <td>6</td>\n",
              "      <td>0</td>\n",
              "      <td>0</td>\n",
              "      <td>0</td>\n",
              "      <td>nonexistent</td>\n",
              "      <td>Paris</td>\n",
              "      <td>paris-anvers-parking</td>\n",
              "      <td>PARKING</td>\n",
              "      <td>48.88267, 2.34405</td>\n",
              "      <td>75009</td>\n",
              "      <td>Paris/Anvers/Parking</td>\n",
              "      <td>operational</td>\n",
              "      <td>0</td>\n",
              "      <td>station</td>\n",
              "      <td>ok</td>\n",
              "      <td>nonexistent</td>\n",
              "      <td>2018</td>\n",
              "      <td>4</td>\n",
              "      <td>4</td>\n",
              "      <td>15</td>\n",
              "      <td>2</td>\n",
              "      <td>True</td>\n",
              "    </tr>\n",
              "  </tbody>\n",
              "</table>\n",
              "</div>"
            ],
            "text/plain": [
              "                              Address  Cars  ...  minute  Verifier_column\n",
              "0                 2 Avenue de Suffren     0  ...      43             True\n",
              "1           145 Rue Raymond Losserand     6  ...      24             True\n",
              "2    2 Avenue John Fitzgerald Kennedy     3  ...      14             True\n",
              "3              51 Rue EugÃ¨ne OudinÃ©     3  ...      37             True\n",
              "4  6 avenue de la Porte de Champerret     3  ...      23             True\n",
              "5                8 Boulevard Voltaire     0  ...       2             True\n",
              "6                      37 rue Leblanc     0  ...      20             True\n",
              "7         17 Rue des Luaps ProlongÃ©e     3  ...      13             True\n",
              "8               34 avenue Jean Moulin     1  ...      58             True\n",
              "9        41 boulevard de Rochechouart     6  ...       2             True\n",
              "\n",
              "[10 rows x 24 columns]"
            ]
          },
          "metadata": {
            "tags": []
          },
          "execution_count": 18
        }
      ]
    },
    {
      "cell_type": "code",
      "metadata": {
        "id": "Mwd1s8IUDUeC",
        "colab_type": "code",
        "outputId": "9c4ba791-b83f-4cb8-edaf-81498dba3955",
        "colab": {
          "base_uri": "https://localhost:8080/",
          "height": 34
        }
      },
      "source": [
        "#Checking whether the similar columns: bluecar and cars have similar values\n",
        "len(ddf[ddf['Verifier_column'] == 'True'])\n",
        "#The result below being the total number of rows meaning all values are true: synnonymous with eachother."
      ],
      "execution_count": 0,
      "outputs": [
        {
          "output_type": "execute_result",
          "data": {
            "text/plain": [
              "5000"
            ]
          },
          "metadata": {
            "tags": []
          },
          "execution_count": 19
        }
      ]
    },
    {
      "cell_type": "markdown",
      "metadata": {
        "id": "E2bQdEvcE7VW",
        "colab_type": "text"
      },
      "source": [
        "## Completeness"
      ]
    },
    {
      "cell_type": "code",
      "metadata": {
        "id": "T9mT5vLRFP2j",
        "colab_type": "code",
        "colab": {}
      },
      "source": [
        "#The dataset satisfies this condition as it has no null values because there was only two columns\n",
        "#that had null values and i dropped them."
      ],
      "execution_count": 0,
      "outputs": []
    },
    {
      "cell_type": "markdown",
      "metadata": {
        "id": "n-pJPrDAFVjg",
        "colab_type": "text"
      },
      "source": [
        "## Consistency"
      ]
    },
    {
      "cell_type": "code",
      "metadata": {
        "id": "535eCXcm8cXN",
        "colab_type": "code",
        "outputId": "ae3f51c4-e76a-4dce-cf34-26cd930e8e54",
        "colab": {
          "base_uri": "https://localhost:8080/",
          "height": 34
        }
      },
      "source": [
        "#Checking for any duplicates in our dataset\n",
        "ddf.duplicated().sum()"
      ],
      "execution_count": 0,
      "outputs": [
        {
          "output_type": "execute_result",
          "data": {
            "text/plain": [
              "0"
            ]
          },
          "metadata": {
            "tags": []
          },
          "execution_count": 21
        }
      ]
    },
    {
      "cell_type": "code",
      "metadata": {
        "id": "hBvUdWmFFr3T",
        "colab_type": "code",
        "outputId": "d483955f-6ca5-4ed3-e00f-8df5e695c748",
        "colab": {
          "base_uri": "https://localhost:8080/",
          "height": 272
        }
      },
      "source": [
        "#Since there weresome duplicates as seen above, we drop them \n",
        "ddf_non_duplicates = ddf.drop_duplicates()\n",
        "\n",
        "#and print out the dataset with no duplicates\n",
        "print(ddf_non_duplicates)\n",
        "\n",
        "#confirm there are no duplicates\n",
        "ddf_non_duplicates.duplicated().sum()\n",
        "\n"
      ],
      "execution_count": 0,
      "outputs": [
        {
          "output_type": "stream",
          "text": [
            "                                 Address  Cars  ...  minute  Verifier_column\n",
            "0                    2 Avenue de Suffren     0  ...      43             True\n",
            "1              145 Rue Raymond Losserand     6  ...      24             True\n",
            "2       2 Avenue John Fitzgerald Kennedy     3  ...      14             True\n",
            "3                 51 Rue EugÃ¨ne OudinÃ©     3  ...      37             True\n",
            "4     6 avenue de la Porte de Champerret     3  ...      23             True\n",
            "...                                  ...   ...  ...     ...              ...\n",
            "4995                 8 avenue MÃ©nelotte     2  ...      26             True\n",
            "4996                   37 rue de Dantzig     4  ...      56             True\n",
            "4997                      142 rue du Bac     1  ...       1             True\n",
            "4998         2 avenue du Val de Fontenay     2  ...      27             True\n",
            "4999                 5 Rue Henry Brisson     4  ...       2             True\n",
            "\n",
            "[5000 rows x 24 columns]\n"
          ],
          "name": "stdout"
        },
        {
          "output_type": "execute_result",
          "data": {
            "text/plain": [
              "0"
            ]
          },
          "metadata": {
            "tags": []
          },
          "execution_count": 22
        }
      ]
    },
    {
      "cell_type": "markdown",
      "metadata": {
        "id": "qw_1vzkCOIK9",
        "colab_type": "text"
      },
      "source": [
        "## Uniformity"
      ]
    },
    {
      "cell_type": "code",
      "metadata": {
        "id": "uf8j-4J3OX8w",
        "colab_type": "code",
        "outputId": "3dafff31-a5f4-4069-cb6c-8510d501eaad",
        "colab": {
          "base_uri": "https://localhost:8080/",
          "height": 255
        }
      },
      "source": [
        "#Fixing messy column names\n",
        "# Sometimes you might have column names which are uppercase, with spaces, \n",
        "# and whitespace all around. How do we fix this? \n",
        "# We use the .str method that we use on text data. \n",
        "# Ideally, we chain a bunch of .str functions as shown below; \n",
        "# \n",
        "\n",
        "# we use strip(), lower() and replace() functions\n",
        "# \n",
        "ddf.columns = ddf.columns.str.strip().str.lower().str.replace(' ', '_').str.replace('(', '').str.replace(')', '')\n",
        "print(ddf)"
      ],
      "execution_count": 0,
      "outputs": [
        {
          "output_type": "stream",
          "text": [
            "                                 address  cars  ...  minute  verifier_column\n",
            "0                    2 Avenue de Suffren     0  ...      43             True\n",
            "1              145 Rue Raymond Losserand     6  ...      24             True\n",
            "2       2 Avenue John Fitzgerald Kennedy     3  ...      14             True\n",
            "3                 51 Rue EugÃ¨ne OudinÃ©     3  ...      37             True\n",
            "4     6 avenue de la Porte de Champerret     3  ...      23             True\n",
            "...                                  ...   ...  ...     ...              ...\n",
            "4995                 8 avenue MÃ©nelotte     2  ...      26             True\n",
            "4996                   37 rue de Dantzig     4  ...      56             True\n",
            "4997                      142 rue du Bac     1  ...       1             True\n",
            "4998         2 avenue du Val de Fontenay     2  ...      27             True\n",
            "4999                 5 Rue Henry Brisson     4  ...       2             True\n",
            "\n",
            "[5000 rows x 24 columns]\n"
          ],
          "name": "stdout"
        }
      ]
    },
    {
      "cell_type": "code",
      "metadata": {
        "id": "LSvO5E5WPSmi",
        "colab_type": "code",
        "outputId": "eae005b5-3153-44ff-fd3d-02692bc387fb",
        "colab": {
          "base_uri": "https://localhost:8080/",
          "height": 510
        }
      },
      "source": [
        "ddf.info()"
      ],
      "execution_count": 0,
      "outputs": [
        {
          "output_type": "stream",
          "text": [
            "<class 'pandas.core.frame.DataFrame'>\n",
            "RangeIndex: 5000 entries, 0 to 4999\n",
            "Data columns (total 24 columns):\n",
            "address                5000 non-null object\n",
            "cars                   5000 non-null int64\n",
            "bluecar_counter        5000 non-null int64\n",
            "utilib_counter         5000 non-null int64\n",
            "utilib_1.4_counter     5000 non-null int64\n",
            "charge_slots           5000 non-null int64\n",
            "charging_status        5000 non-null object\n",
            "city                   5000 non-null object\n",
            "id                     5000 non-null object\n",
            "kind                   5000 non-null object\n",
            "geo_point              5000 non-null object\n",
            "postal_code            5000 non-null int64\n",
            "public_name            5000 non-null object\n",
            "rental_status          5000 non-null object\n",
            "slots                  5000 non-null int64\n",
            "station_type           5000 non-null object\n",
            "status                 5000 non-null object\n",
            "subscription_status    5000 non-null object\n",
            "year                   5000 non-null int64\n",
            "month                  5000 non-null int64\n",
            "day                    5000 non-null int64\n",
            "hour                   5000 non-null int64\n",
            "minute                 5000 non-null int64\n",
            "verifier_column        5000 non-null object\n",
            "dtypes: int64(12), object(12)\n",
            "memory usage: 937.6+ KB\n"
          ],
          "name": "stdout"
        }
      ]
    },
    {
      "cell_type": "code",
      "metadata": {
        "id": "RWlHIJtnRRMC",
        "colab_type": "code",
        "colab": {}
      },
      "source": [
        ""
      ],
      "execution_count": 0,
      "outputs": []
    },
    {
      "cell_type": "markdown",
      "metadata": {
        "id": "Hrn7NfFq3dT7",
        "colab_type": "text"
      },
      "source": [
        "## Exporting the clean data"
      ]
    },
    {
      "cell_type": "code",
      "metadata": {
        "id": "_uZl0cBv3hH_",
        "colab_type": "code",
        "colab": {}
      },
      "source": [
        "#exporting the clean data to a csv\n",
        "ddf.to_csv('ddf_csv')"
      ],
      "execution_count": 0,
      "outputs": []
    },
    {
      "cell_type": "code",
      "metadata": {
        "id": "UpTDIgf_t8C1",
        "colab_type": "code",
        "outputId": "4336847d-4076-492c-8726-cd4a88fa8cb8",
        "colab": {
          "base_uri": "https://localhost:8080/",
          "height": 428
        }
      },
      "source": [
        "#loading cleaned dataset for analysis\n",
        "ddf = 'ddf_csv'\n",
        "df2 = pd.read_csv(ddf)\n",
        "df2.head()"
      ],
      "execution_count": 0,
      "outputs": [
        {
          "output_type": "execute_result",
          "data": {
            "text/html": [
              "<div>\n",
              "<style scoped>\n",
              "    .dataframe tbody tr th:only-of-type {\n",
              "        vertical-align: middle;\n",
              "    }\n",
              "\n",
              "    .dataframe tbody tr th {\n",
              "        vertical-align: top;\n",
              "    }\n",
              "\n",
              "    .dataframe thead th {\n",
              "        text-align: right;\n",
              "    }\n",
              "</style>\n",
              "<table border=\"1\" class=\"dataframe\">\n",
              "  <thead>\n",
              "    <tr style=\"text-align: right;\">\n",
              "      <th></th>\n",
              "      <th>Unnamed: 0</th>\n",
              "      <th>address</th>\n",
              "      <th>cars</th>\n",
              "      <th>bluecar_counter</th>\n",
              "      <th>utilib_counter</th>\n",
              "      <th>utilib_1.4_counter</th>\n",
              "      <th>charge_slots</th>\n",
              "      <th>charging_status</th>\n",
              "      <th>city</th>\n",
              "      <th>id</th>\n",
              "      <th>kind</th>\n",
              "      <th>geo_point</th>\n",
              "      <th>postal_code</th>\n",
              "      <th>public_name</th>\n",
              "      <th>rental_status</th>\n",
              "      <th>slots</th>\n",
              "      <th>station_type</th>\n",
              "      <th>status</th>\n",
              "      <th>subscription_status</th>\n",
              "      <th>year</th>\n",
              "      <th>month</th>\n",
              "      <th>day</th>\n",
              "      <th>hour</th>\n",
              "      <th>minute</th>\n",
              "      <th>verifier_column</th>\n",
              "    </tr>\n",
              "  </thead>\n",
              "  <tbody>\n",
              "    <tr>\n",
              "      <th>0</th>\n",
              "      <td>0</td>\n",
              "      <td>2 Avenue de Suffren</td>\n",
              "      <td>0</td>\n",
              "      <td>0</td>\n",
              "      <td>0</td>\n",
              "      <td>0</td>\n",
              "      <td>0</td>\n",
              "      <td>nonexistent</td>\n",
              "      <td>Paris</td>\n",
              "      <td>paris-suffren-2</td>\n",
              "      <td>STATION</td>\n",
              "      <td>48.857, 2.2917</td>\n",
              "      <td>75015</td>\n",
              "      <td>Paris/Suffren/2</td>\n",
              "      <td>operational</td>\n",
              "      <td>2</td>\n",
              "      <td>station</td>\n",
              "      <td>ok</td>\n",
              "      <td>nonexistent</td>\n",
              "      <td>2018</td>\n",
              "      <td>4</td>\n",
              "      <td>8</td>\n",
              "      <td>11</td>\n",
              "      <td>43</td>\n",
              "      <td>True</td>\n",
              "    </tr>\n",
              "    <tr>\n",
              "      <th>1</th>\n",
              "      <td>1</td>\n",
              "      <td>145 Rue Raymond Losserand</td>\n",
              "      <td>6</td>\n",
              "      <td>6</td>\n",
              "      <td>0</td>\n",
              "      <td>0</td>\n",
              "      <td>0</td>\n",
              "      <td>operational</td>\n",
              "      <td>Paris</td>\n",
              "      <td>paris-raymondlosserand-145</td>\n",
              "      <td>STATION</td>\n",
              "      <td>48.83126, 2.313088</td>\n",
              "      <td>75014</td>\n",
              "      <td>Paris/Raymond Losserand/145</td>\n",
              "      <td>operational</td>\n",
              "      <td>0</td>\n",
              "      <td>station</td>\n",
              "      <td>ok</td>\n",
              "      <td>nonexistent</td>\n",
              "      <td>2018</td>\n",
              "      <td>4</td>\n",
              "      <td>6</td>\n",
              "      <td>7</td>\n",
              "      <td>24</td>\n",
              "      <td>True</td>\n",
              "    </tr>\n",
              "    <tr>\n",
              "      <th>2</th>\n",
              "      <td>2</td>\n",
              "      <td>2 Avenue John Fitzgerald Kennedy</td>\n",
              "      <td>3</td>\n",
              "      <td>3</td>\n",
              "      <td>0</td>\n",
              "      <td>2</td>\n",
              "      <td>0</td>\n",
              "      <td>operational</td>\n",
              "      <td>Le Bourget</td>\n",
              "      <td>lebourget-johnfitzgeraldkennedy-2</td>\n",
              "      <td>STATION</td>\n",
              "      <td>48.938103, 2.4286035</td>\n",
              "      <td>93350</td>\n",
              "      <td>Le Bourget/John Fitzgerald Kennedy/2</td>\n",
              "      <td>operational</td>\n",
              "      <td>1</td>\n",
              "      <td>station</td>\n",
              "      <td>ok</td>\n",
              "      <td>nonexistent</td>\n",
              "      <td>2018</td>\n",
              "      <td>4</td>\n",
              "      <td>3</td>\n",
              "      <td>20</td>\n",
              "      <td>14</td>\n",
              "      <td>True</td>\n",
              "    </tr>\n",
              "    <tr>\n",
              "      <th>3</th>\n",
              "      <td>3</td>\n",
              "      <td>51 Rue EugÃ¨ne OudinÃ©</td>\n",
              "      <td>3</td>\n",
              "      <td>3</td>\n",
              "      <td>1</td>\n",
              "      <td>0</td>\n",
              "      <td>1</td>\n",
              "      <td>operational</td>\n",
              "      <td>Paris</td>\n",
              "      <td>paris-eugeneoudine-51</td>\n",
              "      <td>STATION</td>\n",
              "      <td>48.8250327, 2.3725162</td>\n",
              "      <td>75013</td>\n",
              "      <td>Paris/EugÃ¨ne OudinÃ©/51</td>\n",
              "      <td>operational</td>\n",
              "      <td>2</td>\n",
              "      <td>station</td>\n",
              "      <td>ok</td>\n",
              "      <td>nonexistent</td>\n",
              "      <td>2018</td>\n",
              "      <td>4</td>\n",
              "      <td>4</td>\n",
              "      <td>4</td>\n",
              "      <td>37</td>\n",
              "      <td>True</td>\n",
              "    </tr>\n",
              "    <tr>\n",
              "      <th>4</th>\n",
              "      <td>4</td>\n",
              "      <td>6 avenue de la Porte de Champerret</td>\n",
              "      <td>3</td>\n",
              "      <td>3</td>\n",
              "      <td>0</td>\n",
              "      <td>0</td>\n",
              "      <td>0</td>\n",
              "      <td>nonexistent</td>\n",
              "      <td>Paris</td>\n",
              "      <td>paris-portedechamperret-6</td>\n",
              "      <td>PARKING</td>\n",
              "      <td>48.8862632, 2.2874511</td>\n",
              "      <td>75017</td>\n",
              "      <td>Paris/Porte de Champerret/6</td>\n",
              "      <td>operational</td>\n",
              "      <td>3</td>\n",
              "      <td>station</td>\n",
              "      <td>ok</td>\n",
              "      <td>nonexistent</td>\n",
              "      <td>2018</td>\n",
              "      <td>4</td>\n",
              "      <td>8</td>\n",
              "      <td>17</td>\n",
              "      <td>23</td>\n",
              "      <td>True</td>\n",
              "    </tr>\n",
              "  </tbody>\n",
              "</table>\n",
              "</div>"
            ],
            "text/plain": [
              "   Unnamed: 0                             address  ...  minute  verifier_column\n",
              "0           0                 2 Avenue de Suffren  ...      43             True\n",
              "1           1           145 Rue Raymond Losserand  ...      24             True\n",
              "2           2    2 Avenue John Fitzgerald Kennedy  ...      14             True\n",
              "3           3              51 Rue EugÃ¨ne OudinÃ©  ...      37             True\n",
              "4           4  6 avenue de la Porte de Champerret  ...      23             True\n",
              "\n",
              "[5 rows x 25 columns]"
            ]
          },
          "metadata": {
            "tags": []
          },
          "execution_count": 30
        }
      ]
    },
    {
      "cell_type": "markdown",
      "metadata": {
        "id": "D1Ygk7Gfvhut",
        "colab_type": "text"
      },
      "source": [
        "## Data Analysis"
      ]
    },
    {
      "cell_type": "code",
      "metadata": {
        "id": "cDZXXao-vLQe",
        "colab_type": "code",
        "colab": {}
      },
      "source": [
        "#Loading the new dataframe\n",
        "#\n",
        "ddf = pd.read_csv('/content/ddf_csv')"
      ],
      "execution_count": 0,
      "outputs": []
    },
    {
      "cell_type": "code",
      "metadata": {
        "id": "VQmZBKL6v6Pe",
        "colab_type": "code",
        "outputId": "040c11f0-52ab-436c-cb01-4cb9f5607696",
        "colab": {
          "base_uri": "https://localhost:8080/",
          "height": 419
        }
      },
      "source": [
        "#Creating new columns to compute the usage of the cars as the hours progressed\n",
        "#positive shows cars were returned in that hour\n",
        "#negative indicates they were picked up within the hour and\n",
        "#zero shows nothing happened in that hour\n",
        "#\n",
        "ddf['blue_car'] = ddf['bluecar_counter'].diff()\n",
        "ddf['utilib'] = ddf['utilib_counter'].diff()\n",
        "ddf['utilib_1.4'] = ddf['utilib_1.4_counter'].diff()\n",
        "ddf[['bluecar_counter','blue_car','utilib_counter','utilib','utilib_1.4_counter','utilib_1.4']]"
      ],
      "execution_count": 0,
      "outputs": [
        {
          "output_type": "execute_result",
          "data": {
            "text/html": [
              "<div>\n",
              "<style scoped>\n",
              "    .dataframe tbody tr th:only-of-type {\n",
              "        vertical-align: middle;\n",
              "    }\n",
              "\n",
              "    .dataframe tbody tr th {\n",
              "        vertical-align: top;\n",
              "    }\n",
              "\n",
              "    .dataframe thead th {\n",
              "        text-align: right;\n",
              "    }\n",
              "</style>\n",
              "<table border=\"1\" class=\"dataframe\">\n",
              "  <thead>\n",
              "    <tr style=\"text-align: right;\">\n",
              "      <th></th>\n",
              "      <th>bluecar_counter</th>\n",
              "      <th>blue_car</th>\n",
              "      <th>utilib_counter</th>\n",
              "      <th>utilib</th>\n",
              "      <th>utilib_1.4_counter</th>\n",
              "      <th>utilib_1.4</th>\n",
              "    </tr>\n",
              "  </thead>\n",
              "  <tbody>\n",
              "    <tr>\n",
              "      <th>0</th>\n",
              "      <td>0</td>\n",
              "      <td>NaN</td>\n",
              "      <td>0</td>\n",
              "      <td>NaN</td>\n",
              "      <td>0</td>\n",
              "      <td>NaN</td>\n",
              "    </tr>\n",
              "    <tr>\n",
              "      <th>1</th>\n",
              "      <td>6</td>\n",
              "      <td>6.0</td>\n",
              "      <td>0</td>\n",
              "      <td>0.0</td>\n",
              "      <td>0</td>\n",
              "      <td>0.0</td>\n",
              "    </tr>\n",
              "    <tr>\n",
              "      <th>2</th>\n",
              "      <td>3</td>\n",
              "      <td>-3.0</td>\n",
              "      <td>0</td>\n",
              "      <td>0.0</td>\n",
              "      <td>2</td>\n",
              "      <td>2.0</td>\n",
              "    </tr>\n",
              "    <tr>\n",
              "      <th>3</th>\n",
              "      <td>3</td>\n",
              "      <td>0.0</td>\n",
              "      <td>1</td>\n",
              "      <td>1.0</td>\n",
              "      <td>0</td>\n",
              "      <td>-2.0</td>\n",
              "    </tr>\n",
              "    <tr>\n",
              "      <th>4</th>\n",
              "      <td>3</td>\n",
              "      <td>0.0</td>\n",
              "      <td>0</td>\n",
              "      <td>-1.0</td>\n",
              "      <td>0</td>\n",
              "      <td>0.0</td>\n",
              "    </tr>\n",
              "    <tr>\n",
              "      <th>...</th>\n",
              "      <td>...</td>\n",
              "      <td>...</td>\n",
              "      <td>...</td>\n",
              "      <td>...</td>\n",
              "      <td>...</td>\n",
              "      <td>...</td>\n",
              "    </tr>\n",
              "    <tr>\n",
              "      <th>4995</th>\n",
              "      <td>2</td>\n",
              "      <td>2.0</td>\n",
              "      <td>0</td>\n",
              "      <td>0.0</td>\n",
              "      <td>0</td>\n",
              "      <td>0.0</td>\n",
              "    </tr>\n",
              "    <tr>\n",
              "      <th>4996</th>\n",
              "      <td>4</td>\n",
              "      <td>2.0</td>\n",
              "      <td>0</td>\n",
              "      <td>0.0</td>\n",
              "      <td>0</td>\n",
              "      <td>0.0</td>\n",
              "    </tr>\n",
              "    <tr>\n",
              "      <th>4997</th>\n",
              "      <td>1</td>\n",
              "      <td>-3.0</td>\n",
              "      <td>0</td>\n",
              "      <td>0.0</td>\n",
              "      <td>0</td>\n",
              "      <td>0.0</td>\n",
              "    </tr>\n",
              "    <tr>\n",
              "      <th>4998</th>\n",
              "      <td>2</td>\n",
              "      <td>1.0</td>\n",
              "      <td>0</td>\n",
              "      <td>0.0</td>\n",
              "      <td>0</td>\n",
              "      <td>0.0</td>\n",
              "    </tr>\n",
              "    <tr>\n",
              "      <th>4999</th>\n",
              "      <td>4</td>\n",
              "      <td>2.0</td>\n",
              "      <td>0</td>\n",
              "      <td>0.0</td>\n",
              "      <td>0</td>\n",
              "      <td>0.0</td>\n",
              "    </tr>\n",
              "  </tbody>\n",
              "</table>\n",
              "<p>5000 rows × 6 columns</p>\n",
              "</div>"
            ],
            "text/plain": [
              "      bluecar_counter  blue_car  ...  utilib_1.4_counter  utilib_1.4\n",
              "0                   0       NaN  ...                   0         NaN\n",
              "1                   6       6.0  ...                   0         0.0\n",
              "2                   3      -3.0  ...                   2         2.0\n",
              "3                   3       0.0  ...                   0        -2.0\n",
              "4                   3       0.0  ...                   0         0.0\n",
              "...               ...       ...  ...                 ...         ...\n",
              "4995                2       2.0  ...                   0         0.0\n",
              "4996                4       2.0  ...                   0         0.0\n",
              "4997                1      -3.0  ...                   0         0.0\n",
              "4998                2       1.0  ...                   0         0.0\n",
              "4999                4       2.0  ...                   0         0.0\n",
              "\n",
              "[5000 rows x 6 columns]"
            ]
          },
          "metadata": {
            "tags": []
          },
          "execution_count": 34
        }
      ]
    },
    {
      "cell_type": "markdown",
      "metadata": {
        "id": "Lr3G8aIKwhgJ",
        "colab_type": "text"
      },
      "source": [
        "## Picking Blue cars"
      ]
    },
    {
      "cell_type": "code",
      "metadata": {
        "id": "R9irhwmCws2S",
        "colab_type": "code",
        "outputId": "d0d795ca-f659-432b-8943-38b0b1895636",
        "colab": {
          "base_uri": "https://localhost:8080/",
          "height": 68
        }
      },
      "source": [
        "#computing the most popular hour for picking up Bluecars in Paris\n",
        "\n",
        "popular_hour = ddf[(ddf.city == 'Paris') & (ddf.blue_car < 0)].groupby(['hour'])['blue_car'].sum()\n",
        "popular_hour.sort_values(ascending = False).head(1)\n",
        "\n",
        "#The most popular hour for picking up Bluecars was 7pm in Paris.\n",
        "\n"
      ],
      "execution_count": 0,
      "outputs": [
        {
          "output_type": "execute_result",
          "data": {
            "text/plain": [
              "hour\n",
              "14   -123.0\n",
              "Name: blue_car, dtype: float64"
            ]
          },
          "metadata": {
            "tags": []
          },
          "execution_count": 37
        }
      ]
    },
    {
      "cell_type": "code",
      "metadata": {
        "id": "4ZOjZGupxNGq",
        "colab_type": "code",
        "outputId": "72a1604f-2037-4dcb-ab94-3c0ab860b62c",
        "colab": {
          "base_uri": "https://localhost:8080/",
          "height": 68
        }
      },
      "source": [
        "#computing the most popular station for picking up Bluecars in Paris \n",
        "#\n",
        "popular_station = ddf[(ddf.city == 'Paris') & (ddf.blue_car < 0) & (ddf.kind == 'STATION') & \n",
        "                       (ddf.status == 'ok')].groupby(['id'])['id'].count()\n",
        "popular_station.sort_values(ascending = False).head(1)\n",
        "\n",
        "#The most popular station in general for picking up Bluecars in Paris was 'paris-saintecroixdelabretonnerie-37'\n",
        "\n"
      ],
      "execution_count": 0,
      "outputs": [
        {
          "output_type": "execute_result",
          "data": {
            "text/plain": [
              "id\n",
              "paris-madame-18    7\n",
              "Name: id, dtype: int64"
            ]
          },
          "metadata": {
            "tags": []
          },
          "execution_count": 39
        }
      ]
    },
    {
      "cell_type": "code",
      "metadata": {
        "id": "Cs9XeS_xx5Ky",
        "colab_type": "code",
        "outputId": "d0733d12-77a7-427f-987e-7df3ecfca227",
        "colab": {
          "base_uri": "https://localhost:8080/",
          "height": 68
        }
      },
      "source": [
        "#showing the postal code of the station obtained in the previous scenario\n",
        "#\n",
        "postal_code = ddf[(ddf.id == 'paris-saintecroixdelabretonnerie-37') & (ddf.kind == 'STATION') & \n",
        "                       (ddf.blue_car < 0)].groupby(['postal_code'])['postal_code'].count()\n",
        "postal_code.sort_values(ascending = False)\n",
        "\n",
        "#The postal address for the station above was 75004.\n",
        "\n"
      ],
      "execution_count": 0,
      "outputs": [
        {
          "output_type": "execute_result",
          "data": {
            "text/plain": [
              "postal_code\n",
              "75004    5\n",
              "Name: postal_code, dtype: int64"
            ]
          },
          "metadata": {
            "tags": []
          },
          "execution_count": 42
        }
      ]
    },
    {
      "cell_type": "code",
      "metadata": {
        "id": "-jhN6Cx9yVjI",
        "colab_type": "code",
        "outputId": "b044606b-de05-475b-c24b-5213d875c6c4",
        "colab": {
          "base_uri": "https://localhost:8080/",
          "height": 68
        }
      },
      "source": [
        "#Popular station- Picking up hour\n",
        "#computing the most popular station for picking up Bluecars \n",
        "#in Paris during the most popular picking up hour\n",
        "#\n",
        "pop_station2 = ddf[(ddf.city == 'Paris') & (ddf.blue_car < 0) & \n",
        "                        (ddf.kind == 'STATION') & (ddf.hour == 19) & \n",
        "                        (ddf.status == 'ok')].groupby(['id'])['id'].count()\n",
        "pop_station2.sort_values(ascending = False).head(1)\n",
        "\n",
        "#The popular station during the most popular picking up hour was 'paris-victoire-76'.\n",
        "\n"
      ],
      "execution_count": 0,
      "outputs": [
        {
          "output_type": "execute_result",
          "data": {
            "text/plain": [
              "id\n",
              "paris-beaumarchais-87    2\n",
              "Name: id, dtype: int64"
            ]
          },
          "metadata": {
            "tags": []
          },
          "execution_count": 45
        }
      ]
    },
    {
      "cell_type": "code",
      "metadata": {
        "id": "OoWZ1jw9yqpA",
        "colab_type": "code",
        "outputId": "809da9c2-9401-4838-c295-85d4c8f7aad1",
        "colab": {
          "base_uri": "https://localhost:8080/",
          "height": 34
        }
      },
      "source": [
        "#Postal code\n",
        "#showing the postal code of the station obtained in the previous scenario\n",
        "#\n",
        "postal_code2 = ddf[(ddf.id == 'paris-victoire-76') & (ddf.blue_car < 0) & \n",
        "                        (ddf.kind == 'STATION') & (ddf.hour == 19)].groupby(['postal_code'])['postal_code'].count()\n",
        "postal_code2.sort_values(ascending = False)"
      ],
      "execution_count": 0,
      "outputs": [
        {
          "output_type": "execute_result",
          "data": {
            "text/plain": [
              "Series([], Name: postal_code, dtype: int64)"
            ]
          },
          "metadata": {
            "tags": []
          },
          "execution_count": 44
        }
      ]
    },
    {
      "cell_type": "markdown",
      "metadata": {
        "id": "SzSaQIq8wmbQ",
        "colab_type": "text"
      },
      "source": [
        "## Returning Blue cars"
      ]
    },
    {
      "cell_type": "code",
      "metadata": {
        "id": "opyuGo4NzHJz",
        "colab_type": "code",
        "outputId": "5c4e5968-b8ac-4221-bc66-7987be86d24b",
        "colab": {
          "base_uri": "https://localhost:8080/",
          "height": 68
        }
      },
      "source": [
        "#Popular Hour\n",
        "#The line below computes the most popular hour for returning Bluecars in Paris\n",
        "#\n",
        "pop_hr = ddf[(ddf.city == 'Paris') & (ddf.blue_car > 0)].groupby(['hour'])['blue_car'].sum()\n",
        "pop_hr.sort_values(ascending = False).head(1)\n",
        "\n",
        "#The most popular hour for returning Bluecars was 4am in Paris.\n",
        "\n",
        "\n"
      ],
      "execution_count": 0,
      "outputs": [
        {
          "output_type": "execute_result",
          "data": {
            "text/plain": [
              "hour\n",
              "3    134.0\n",
              "Name: blue_car, dtype: float64"
            ]
          },
          "metadata": {
            "tags": []
          },
          "execution_count": 46
        }
      ]
    },
    {
      "cell_type": "code",
      "metadata": {
        "id": "gxb3HBma37-o",
        "colab_type": "code",
        "outputId": "d7335eee-e315-4f14-cd90-f3527bc525fa",
        "colab": {
          "base_uri": "https://localhost:8080/",
          "height": 68
        }
      },
      "source": [
        "#Popular station- Overall\n",
        "#The line below computes the most popular station for returning Bluecars \n",
        "#in Paris \n",
        "#\n",
        "pop_station = ddf[(ddf.city == 'Paris') & (ddf.blue_car > 0) & \n",
        "                       (ddf.kind == 'STATION')].groupby(['id'])['id'].count()\n",
        "pop_station.sort_values(ascending = False).head(1)\n",
        "\n",
        "#The most popular station for returning bluecars in general was 'paris-versailles-112'.\n",
        "\n",
        "\n"
      ],
      "execution_count": 0,
      "outputs": [
        {
          "output_type": "execute_result",
          "data": {
            "text/plain": [
              "id\n",
              "paris-portedemontrouge-8    8\n",
              "Name: id, dtype: int64"
            ]
          },
          "metadata": {
            "tags": []
          },
          "execution_count": 47
        }
      ]
    },
    {
      "cell_type": "code",
      "metadata": {
        "id": "yxsKGiWO4ECN",
        "colab_type": "code",
        "outputId": "b2555dc3-c848-495f-be41-cae4688fa954",
        "colab": {
          "base_uri": "https://localhost:8080/",
          "height": 68
        }
      },
      "source": [
        "#Postal code\n",
        "#This code will show the postal code of the station obtained in the previous scenario\n",
        "#\n",
        "postal_code = ddf[(ddf.id == 'paris-versailles-112') & (ddf.kind == 'STATION') & \n",
        "                       (ddf.blue_car > 0)].groupby(['postal_code'])['postal_code'].count()\n",
        "postal_code.sort_values(ascending = False)\n",
        "\n",
        "#The postal code for the station above was 75016.\n",
        "\n"
      ],
      "execution_count": 0,
      "outputs": [
        {
          "output_type": "execute_result",
          "data": {
            "text/plain": [
              "postal_code\n",
              "75016    2\n",
              "Name: postal_code, dtype: int64"
            ]
          },
          "metadata": {
            "tags": []
          },
          "execution_count": 48
        }
      ]
    },
    {
      "cell_type": "code",
      "metadata": {
        "id": "QqC_Ut4e4LEU",
        "colab_type": "code",
        "outputId": "a649775a-2331-48f0-a465-6d3fbdb1a4ad",
        "colab": {
          "base_uri": "https://localhost:8080/",
          "height": 68
        }
      },
      "source": [
        "#Popular station- Picking up hour\n",
        "#The line below computes the most popular station for returning Bluecars \n",
        "#in Paris during the most popular picking up hour\n",
        "#\n",
        "pop_station2 = ddf[(ddf.city == 'Paris') & (ddf.blue_car > 0) & \n",
        "                        (ddf.kind == 'STATION') & (ddf.hour == 4) & \n",
        "                        (ddf.status == 'ok')].groupby(['id'])['id'].count()\n",
        "pop_station2.sort_values(ascending = False).head(1)\n",
        "#The popular station during the most popular hour of returning bluecars was 'paris-poteau-40'.\n",
        "\n"
      ],
      "execution_count": 0,
      "outputs": [
        {
          "output_type": "execute_result",
          "data": {
            "text/plain": [
              "id\n",
              "paris-claudebernard-16    2\n",
              "Name: id, dtype: int64"
            ]
          },
          "metadata": {
            "tags": []
          },
          "execution_count": 49
        }
      ]
    },
    {
      "cell_type": "code",
      "metadata": {
        "id": "kBO5voM24R7K",
        "colab_type": "code",
        "outputId": "394afcdc-56ec-4126-e406-aff68b602d9c",
        "colab": {
          "base_uri": "https://localhost:8080/",
          "height": 34
        }
      },
      "source": [
        "#Postal code\n",
        "#This code will show the postal code of the station obtained in the previous scenario\n",
        "#\n",
        "postal_code3 = ddf[(ddf.id == 'paris-poteau-40') & (ddf.blue_car > 0) & \n",
        "                        (ddf.kind == 'STATION') & (ddf.hour == 4) & \n",
        "                        (ddf.status == 'ok')].groupby(['postal_code'])['postal_code'].count()\n",
        "postal_code3.sort_values(ascending = False)\n",
        "#The postal code for the above station was 75018."
      ],
      "execution_count": 0,
      "outputs": [
        {
          "output_type": "execute_result",
          "data": {
            "text/plain": [
              "Series([], Name: postal_code, dtype: int64)"
            ]
          },
          "metadata": {
            "tags": []
          },
          "execution_count": 50
        }
      ]
    },
    {
      "cell_type": "markdown",
      "metadata": {
        "id": "PIAxNAGlz7QT",
        "colab_type": "text"
      },
      "source": [
        "Picking up Utilib cars"
      ]
    },
    {
      "cell_type": "code",
      "metadata": {
        "id": "2jPkQzqc0VbY",
        "colab_type": "code",
        "outputId": "d0f8d836-305b-4d5c-de2b-118047d20240",
        "colab": {
          "base_uri": "https://localhost:8080/",
          "height": 215
        }
      },
      "source": [
        "#Popular Hour\n",
        "#The line below computes the most popular hour for picking up utilib cars in Paris\n",
        "#\n",
        "pop_hr = elec_car[(elec_car.city == 'Paris') & (elec_car.utilib < 0)].groupby(['hour'])['utilib'].sum()\n",
        "pop_hr.sort_values(ascending = False).head(1)\n",
        "#The most popular hour for picking up utilib cars was 6pm in Paris.\n",
        "\n"
      ],
      "execution_count": 0,
      "outputs": [
        {
          "output_type": "error",
          "ename": "NameError",
          "evalue": "ignored",
          "traceback": [
            "\u001b[0;31m---------------------------------------------------------------------------\u001b[0m",
            "\u001b[0;31mNameError\u001b[0m                                 Traceback (most recent call last)",
            "\u001b[0;32m<ipython-input-52-6e01d6b3c325>\u001b[0m in \u001b[0;36m<module>\u001b[0;34m()\u001b[0m\n\u001b[0;32m----> 1\u001b[0;31m \u001b[0mpop_hr\u001b[0m \u001b[0;34m=\u001b[0m \u001b[0melec_car\u001b[0m\u001b[0;34m[\u001b[0m\u001b[0;34m(\u001b[0m\u001b[0melec_car\u001b[0m\u001b[0;34m.\u001b[0m\u001b[0mcity\u001b[0m \u001b[0;34m==\u001b[0m \u001b[0;34m'Paris'\u001b[0m\u001b[0;34m)\u001b[0m \u001b[0;34m&\u001b[0m \u001b[0;34m(\u001b[0m\u001b[0melec_car\u001b[0m\u001b[0;34m.\u001b[0m\u001b[0mutilib\u001b[0m \u001b[0;34m<\u001b[0m \u001b[0;36m0\u001b[0m\u001b[0;34m)\u001b[0m\u001b[0;34m]\u001b[0m\u001b[0;34m.\u001b[0m\u001b[0mgroupby\u001b[0m\u001b[0;34m(\u001b[0m\u001b[0;34m[\u001b[0m\u001b[0;34m'hour'\u001b[0m\u001b[0;34m]\u001b[0m\u001b[0;34m)\u001b[0m\u001b[0;34m[\u001b[0m\u001b[0;34m'utilib'\u001b[0m\u001b[0;34m]\u001b[0m\u001b[0;34m.\u001b[0m\u001b[0msum\u001b[0m\u001b[0;34m(\u001b[0m\u001b[0;34m)\u001b[0m\u001b[0;34m\u001b[0m\u001b[0;34m\u001b[0m\u001b[0m\n\u001b[0m\u001b[1;32m      2\u001b[0m \u001b[0mpop_hr\u001b[0m\u001b[0;34m.\u001b[0m\u001b[0msort_values\u001b[0m\u001b[0;34m(\u001b[0m\u001b[0mascending\u001b[0m \u001b[0;34m=\u001b[0m \u001b[0;32mFalse\u001b[0m\u001b[0;34m)\u001b[0m\u001b[0;34m.\u001b[0m\u001b[0mhead\u001b[0m\u001b[0;34m(\u001b[0m\u001b[0;36m1\u001b[0m\u001b[0;34m)\u001b[0m\u001b[0;34m\u001b[0m\u001b[0;34m\u001b[0m\u001b[0m\n\u001b[1;32m      3\u001b[0m \u001b[0;31m#The most popular hour for picking up utilib cars was 6pm in Paris.\u001b[0m\u001b[0;34m\u001b[0m\u001b[0;34m\u001b[0m\u001b[0;34m\u001b[0m\u001b[0m\n\u001b[1;32m      4\u001b[0m \u001b[0;34m\u001b[0m\u001b[0m\n",
            "\u001b[0;31mNameError\u001b[0m: name 'elec_car' is not defined"
          ]
        }
      ]
    },
    {
      "cell_type": "code",
      "metadata": {
        "id": "pFMFItfe0o8M",
        "colab_type": "code",
        "outputId": "3196b14f-ffac-4814-c808-abdd73dbbd3d",
        "colab": {
          "base_uri": "https://localhost:8080/",
          "height": 68
        }
      },
      "source": [
        "#Popular station- Overall\n",
        "#The line below computes the most popular station for picking up utilib cars \n",
        "#in Paris \n",
        "#\n",
        "pop_station = ddf[(ddf.city == 'Paris') & (ddf.utilib < 0) & (ddf.kind == 'STATION') & \n",
        "                       (ddf.status == 'ok')].groupby(['id'])['id'].count()\n",
        "pop_station.sort_values(ascending = False).head(1)\n",
        "#The most popular station in general for picking up utilib cars was 'paris-haussmann-6'.\n",
        "\n"
      ],
      "execution_count": 0,
      "outputs": [
        {
          "output_type": "execute_result",
          "data": {
            "text/plain": [
              "id\n",
              "paris-legendre-22    2\n",
              "Name: id, dtype: int64"
            ]
          },
          "metadata": {
            "tags": []
          },
          "execution_count": 51
        }
      ]
    },
    {
      "cell_type": "code",
      "metadata": {
        "id": "4FXJhgFh01JQ",
        "colab_type": "code",
        "outputId": "578273c1-4bdc-4e53-a798-0540be727a6b",
        "colab": {
          "base_uri": "https://localhost:8080/",
          "height": 68
        }
      },
      "source": [
        "#Popular station- Picking up hour\n",
        "#The line below computes the most popular station for picking up utilib cars \n",
        "#in Paris during the most popular picking up hour\n",
        "#\n",
        "pop_station2 = ddf[(ddf.city == 'Paris') & (ddf.utilib < 0) & \n",
        "                        (ddf.kind == 'STATION') & (ddf.hour == 18) & \n",
        "                        (ddf.status == 'ok')].groupby(['id'])['id'].count()\n",
        "pop_station2.sort_values(ascending = False).head(1)\n",
        "#The popular station during the most popular hour for picking utilib cars was also 'paris-tourmaubourg-76'.\n",
        "\n"
      ],
      "execution_count": 0,
      "outputs": [
        {
          "output_type": "execute_result",
          "data": {
            "text/plain": [
              "id\n",
              "paris-suffren-112    1\n",
              "Name: id, dtype: int64"
            ]
          },
          "metadata": {
            "tags": []
          },
          "execution_count": 53
        }
      ]
    },
    {
      "cell_type": "markdown",
      "metadata": {
        "id": "RhwzknjS1B8V",
        "colab_type": "text"
      },
      "source": [
        "## Returning utilib cars"
      ]
    },
    {
      "cell_type": "code",
      "metadata": {
        "id": "9o-u5-SU089x",
        "colab_type": "code",
        "outputId": "e80dafed-efdc-43f7-e0fc-c3702bded9a4",
        "colab": {
          "base_uri": "https://localhost:8080/",
          "height": 68
        }
      },
      "source": [
        "#Popular Hour\n",
        "#The line below computes the most popular hour for returning utilib cars in Paris\n",
        "#\n",
        "pop_hr = ddf[(ddf.city == 'Paris') & (ddf.utilib > 0)].groupby(['hour'])['utilib'].sum()\n",
        "pop_hr.sort_values(ascending = False).head(1)\n",
        "#The most popular hour for returning utilib cars was 7am in Paris.\n",
        "\n"
      ],
      "execution_count": 0,
      "outputs": [
        {
          "output_type": "execute_result",
          "data": {
            "text/plain": [
              "hour\n",
              "6    12.0\n",
              "Name: utilib, dtype: float64"
            ]
          },
          "metadata": {
            "tags": []
          },
          "execution_count": 54
        }
      ]
    },
    {
      "cell_type": "code",
      "metadata": {
        "id": "da6JTspx2Ufr",
        "colab_type": "code",
        "outputId": "0ae930c3-c2df-4d71-92e3-8cc0a5333437",
        "colab": {
          "base_uri": "https://localhost:8080/",
          "height": 68
        }
      },
      "source": [
        "#Popular station- Overall\n",
        "#The line below computes the most popular station for returning utilib cars \n",
        "#in Paris \n",
        "#\n",
        "pop_station = ddf[(ddf.city == 'Paris') & (ddf.utilib > 0) & \n",
        "                       (ddf.kind == 'STATION')].groupby(['id'])['id'].count()\n",
        "pop_station.sort_values(ascending = False).head(1)\n",
        "#The most popular station in general for returning cars was 'paris-sibelle-29'.\n",
        "\n"
      ],
      "execution_count": 0,
      "outputs": [
        {
          "output_type": "execute_result",
          "data": {
            "text/plain": [
              "id\n",
              "paris-macmahon-5    4\n",
              "Name: id, dtype: int64"
            ]
          },
          "metadata": {
            "tags": []
          },
          "execution_count": 56
        }
      ]
    },
    {
      "cell_type": "code",
      "metadata": {
        "id": "CbEx22RG2bTZ",
        "colab_type": "code",
        "outputId": "2045f897-1274-49a9-8613-5669acc208d4",
        "colab": {
          "base_uri": "https://localhost:8080/",
          "height": 68
        }
      },
      "source": [
        "#Popular station- Returning hour\n",
        "#The line below computes the most popular station for returning utilib cars \n",
        "#in Paris during the most popular picking up hour\n",
        "#\n",
        "pop_station2 = ddf[(ddf.city == 'Paris') & (ddf.utilib > 0) & \n",
        "                        (ddf.kind == 'STATION') & (ddf.hour == 7) & \n",
        "                        (ddf.status == 'ok')].groupby(['id'])['id'].count()\n",
        "pop_station2.sort_values(ascending = False).head(1)\n",
        "#The most popular station at the popular hour for returning cars was 'paris-tolbiac-189'.\n",
        "\n"
      ],
      "execution_count": 0,
      "outputs": [
        {
          "output_type": "execute_result",
          "data": {
            "text/plain": [
              "id\n",
              "paris-vauvenargues-35    1\n",
              "Name: id, dtype: int64"
            ]
          },
          "metadata": {
            "tags": []
          },
          "execution_count": 57
        }
      ]
    },
    {
      "cell_type": "markdown",
      "metadata": {
        "id": "yjrI8smj3ESM",
        "colab_type": "text"
      },
      "source": [
        "## Picking up utilib_1.4"
      ]
    },
    {
      "cell_type": "code",
      "metadata": {
        "id": "Ydk_mvYu3AcU",
        "colab_type": "code",
        "outputId": "ec187ccf-9eec-4085-90c4-fe97d3a47069",
        "colab": {
          "base_uri": "https://localhost:8080/",
          "height": 68
        }
      },
      "source": [
        "#Popular Hour\n",
        "#The line below computes the most popular hour for picking up utilib_1.4 cars in Paris\n",
        "#\n",
        "pop_hr = ddf[(ddf.city == 'Paris') & (ddf['utilib_1.4'] < 0)].groupby(['hour'])['utilib_1.4'].sum()\n",
        "pop_hr.sort_values(ascending = False).head(1)\n",
        "#The most popular hour for picking up utilib_1.4 is 7pm in Paris.\n",
        "\n"
      ],
      "execution_count": 0,
      "outputs": [
        {
          "output_type": "execute_result",
          "data": {
            "text/plain": [
              "hour\n",
              "1   -7.0\n",
              "Name: utilib_1.4, dtype: float64"
            ]
          },
          "metadata": {
            "tags": []
          },
          "execution_count": 58
        }
      ]
    },
    {
      "cell_type": "code",
      "metadata": {
        "id": "lWUsI8Re3KBE",
        "colab_type": "code",
        "outputId": "acaf6aac-1794-4e0b-e7d3-4b7c5ea5c272",
        "colab": {
          "base_uri": "https://localhost:8080/",
          "height": 68
        }
      },
      "source": [
        "#Popular station- Overall\n",
        "#The line below computes the most popular station for picking up utilib_1.4 cars \n",
        "#in Paris \n",
        "#\n",
        "pop_station = ddf[(ddf.city == 'Paris') & (ddf['utilib_1.4'] < 0) & (ddf.kind == 'STATION') & \n",
        "                       (ddf.status == 'ok')].groupby(['id'])['id'].count()\n",
        "pop_station.sort_values(ascending = False).head(1)\n",
        "#The most popular station for picking up utilib_1.4 is 'paris-turenne-98'.\n",
        "\n"
      ],
      "execution_count": 0,
      "outputs": [
        {
          "output_type": "execute_result",
          "data": {
            "text/plain": [
              "id\n",
              "paris-richardlenoir-110    3\n",
              "Name: id, dtype: int64"
            ]
          },
          "metadata": {
            "tags": []
          },
          "execution_count": 59
        }
      ]
    },
    {
      "cell_type": "code",
      "metadata": {
        "id": "6qQwC3hl3T7s",
        "colab_type": "code",
        "outputId": "a5b11aa7-3278-4f53-afae-1a9bb4f100f8",
        "colab": {
          "base_uri": "https://localhost:8080/",
          "height": 68
        }
      },
      "source": [
        "#Popular station- Picking up hour\n",
        "#The line below computes the most popular station for picking up utilib_1.4 cars \n",
        "#in Paris during the most popular picking up hour\n",
        "#\n",
        "pop_station2 = ddf[(ddf.city == 'Paris') & (ddf['utilib_1.4'] < 0) & \n",
        "                        (ddf.kind == 'STATION') & (ddf.hour == 19) & \n",
        "                        (ddf.status == 'ok')].groupby(['id'])['id'].count()\n",
        "pop_station2.sort_values(ascending = False).head(1)\n",
        "#The most popular station for picking up utilib_1.4 at the popular hour is 'paris-courcelles-40'.\n",
        "\n"
      ],
      "execution_count": 0,
      "outputs": [
        {
          "output_type": "execute_result",
          "data": {
            "text/plain": [
              "id\n",
              "paris-tolbiac-41    1\n",
              "Name: id, dtype: int64"
            ]
          },
          "metadata": {
            "tags": []
          },
          "execution_count": 60
        }
      ]
    },
    {
      "cell_type": "markdown",
      "metadata": {
        "id": "gvjlGq5k3dgF",
        "colab_type": "text"
      },
      "source": [
        "## Returning utilib_1.4"
      ]
    },
    {
      "cell_type": "code",
      "metadata": {
        "id": "RVYTdac_3hPx",
        "colab_type": "code",
        "outputId": "057039e4-3d1f-4829-f137-a7695a7fcb22",
        "colab": {
          "base_uri": "https://localhost:8080/",
          "height": 68
        }
      },
      "source": [
        "#Popular Hour\n",
        "#The line below computes the most popular hour for returning utilib_1.4 cars in Paris\n",
        "#\n",
        "pop_hr = ddf[(ddf.city == 'Paris') & (ddf['utilib_1.4'] > 0)].groupby(['hour'])['utilib_1.4'].sum()\n",
        "pop_hr.sort_values(ascending = False).head(1)\n",
        "#The most popular hour for returning utilib_1.4 is 6am.\n",
        "\n"
      ],
      "execution_count": 0,
      "outputs": [
        {
          "output_type": "execute_result",
          "data": {
            "text/plain": [
              "hour\n",
              "17    18.0\n",
              "Name: utilib_1.4, dtype: float64"
            ]
          },
          "metadata": {
            "tags": []
          },
          "execution_count": 61
        }
      ]
    },
    {
      "cell_type": "code",
      "metadata": {
        "id": "azIvekRC3m_8",
        "colab_type": "code",
        "outputId": "ee667e7e-c816-4d06-9375-70296e269cf1",
        "colab": {
          "base_uri": "https://localhost:8080/",
          "height": 68
        }
      },
      "source": [
        "#Popular station- Overall\n",
        "#The line below computes the most popular station for returning utilib_1.4 cars \n",
        "#in Paris \n",
        "#\n",
        "pop_station = ddf[(ddf.city == 'Paris') & (ddf['utilib_1.4'] > 0) & \n",
        "                       (ddf.kind == 'STATION')].groupby(['id'])['id'].count()\n",
        "pop_station.sort_values(ascending = False).head(1)\n",
        "#The most popular station for returning utilib_1.4 in general is 'paris-portedemontrouge-8'.\n",
        "\n"
      ],
      "execution_count": 0,
      "outputs": [
        {
          "output_type": "execute_result",
          "data": {
            "text/plain": [
              "id\n",
              "paris-portedemontrouge-8    7\n",
              "Name: id, dtype: int64"
            ]
          },
          "metadata": {
            "tags": []
          },
          "execution_count": 62
        }
      ]
    },
    {
      "cell_type": "code",
      "metadata": {
        "id": "x2XI1bnG3uns",
        "colab_type": "code",
        "outputId": "e34b3163-4fe5-4ef9-eae3-7c3b3bb289bf",
        "colab": {
          "base_uri": "https://localhost:8080/",
          "height": 68
        }
      },
      "source": [
        "#Popular station- Returning hour\n",
        "#The line below computes the most popular station for returning utilib_1.4 cars \n",
        "#in Paris during the most popular picking up hour\n",
        "#\n",
        "pop_station2 = ddf[(ddf.city == 'Paris') & (ddf['utilib_1.4'] > 0) & \n",
        "                        (ddf.kind == 'STATION') & (ddf.hour == 6) & \n",
        "                        (ddf.status == 'ok')].groupby(['id'])['id'].count()\n",
        "pop_station2.sort_values(ascending = False).head(1)\n",
        "#The most popular station for returning utilib_1.4 at the popular hour is 'paris-marcadet-220'.\n",
        "\n"
      ],
      "execution_count": 0,
      "outputs": [
        {
          "output_type": "execute_result",
          "data": {
            "text/plain": [
              "id\n",
              "paris-suffren-78    1\n",
              "Name: id, dtype: int64"
            ]
          },
          "metadata": {
            "tags": []
          },
          "execution_count": 63
        }
      ]
    }
  ]
}